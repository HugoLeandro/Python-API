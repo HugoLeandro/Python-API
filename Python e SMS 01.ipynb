{
 "cells": [
  {
   "cell_type": "markdown",
   "metadata": {},
   "source": [
    "# Python e API com Login\n",
    "\n",
    "### O 1º Passo de toda API com Login é criar uma conta e pegar suas credenciais\n",
    "\n",
    "### No seu código, o 1º passo é sempre estabelecer a conexão com a API, usando seu login e suas credenciais\n",
    "\n",
    "- Como cada API é uma ferramenta diferente, cada uma delas pode exigir que você faça algum tipo de configuração, que vai estar explicada na API. No nosso caso, teremos que validar um número e criar um número de envio\n",
    "\n",
    "- Depois, usamos os métodos da API normalmente para fazer o que queremos. No nosso caso, enviar um SMS"
   ]
  },
  {
   "cell_type": "markdown",
   "metadata": {},
   "source": [
    "#### 1. Vamos criar um login no Twilio\n",
    "\n",
    "https://www.twilio.com/docs/libraries/python"
   ]
  },
  {
   "cell_type": "markdown",
   "metadata": {},
   "source": [
    "#### 2. Depois do Login, vamos pegar 3 informações:\n",
    "\n",
    "- ID da Conta\n",
    "- Token\n",
    "- Número de Envio"
   ]
  },
  {
   "cell_type": "markdown",
   "metadata": {},
   "source": [
    "#### 3. Agora vamos validar um número porque no Twilio, enviar SMS para um número válido é de graça"
   ]
  },
  {
   "cell_type": "markdown",
   "metadata": {},
   "source": [
    "#### 4. Agora podemos fazer o nosso código de acordo com as orientações do Twilio"
   ]
  },
  {
   "cell_type": "code",
   "execution_count": null,
   "metadata": {},
   "outputs": [],
   "source": [
    "from twilio.rest import Client\n",
    "account_sid = 'AC82ad46517a643a9f211868a7ebdbb394'\n",
    "token = '58df26bc59b2daa80a4b4cd286931979'\n",
    "\n",
    "client = Client(account_sid, token)\n",
    "\n",
    "\n",
    "remetente = '+12706719796'\n",
    "destino = '+5581998315210'"
   ]
  },
  {
   "cell_type": "code",
   "execution_count": null,
   "metadata": {},
   "outputs": [],
   "source": [
    "message = client.messages.create(\n",
    "    to=destino, \n",
    "    from_=remetente,\n",
    "    body=\"Hello Python!\")\n",
    "\n",
    "print(message.sid)"
   ]
  },
  {
   "cell_type": "code",
   "execution_count": null,
   "metadata": {},
   "outputs": [],
   "source": []
  }
 ],
 "metadata": {
  "kernelspec": {
   "display_name": "Python 3 (ipykernel)",
   "language": "python",
   "name": "python3"
  },
  "language_info": {
   "codemirror_mode": {
    "name": "ipython",
    "version": 3
   },
   "file_extension": ".py",
   "mimetype": "text/x-python",
   "name": "python",
   "nbconvert_exporter": "python",
   "pygments_lexer": "ipython3",
   "version": "3.9.13"
  }
 },
 "nbformat": 4,
 "nbformat_minor": 4
}
